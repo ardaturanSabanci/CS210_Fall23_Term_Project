{
 "cells": [
  {
   "cell_type": "markdown",
   "id": "5641b48a",
   "metadata": {},
   "source": [
    "## 1) Importing necessary libraries"
   ]
  },
  {
   "cell_type": "code",
   "execution_count": 1,
   "id": "51ea3378",
   "metadata": {},
   "outputs": [],
   "source": [
    "import pandas as pd\n",
    "import numpy as np\n",
    "import matplotlib.pyplot as plt\n",
    "import calendar\n",
    "import seaborn as sns\n",
    "import bs4\n",
    "import requests\n",
    "from sklearn.preprocessing import OneHotEncoder\n",
    "from sklearn.model_selection import train_test_split\n",
    "\n",
    "#import spotipy\n",
    "#from spotipy.oauth2 import SpotifyClientCredentials\n",
    "#client_credentials_manager = SpotifyClientCredentials(client_id='491862eccb624461a90a6ec9a26c94d7', client_secret='342e7a81e01241799d0ff4a6319eaf82')\n",
    "#sp = spotipy.Spotify(client_credentials_manager=client_credentials_manager)\n"
   ]
  },
  {
   "cell_type": "markdown",
   "id": "a44409f5",
   "metadata": {},
   "source": [
    "## 2) Scraping the data"
   ]
  },
  {
   "cell_type": "code",
   "execution_count": 2,
   "id": "11916af5",
   "metadata": {},
   "outputs": [],
   "source": [
    "file_path = r'/Users/ardaturan/Desktop/index.html'\n",
    "\n",
    "with open(file_path, 'r', encoding='utf-8') as file:\n",
    "    html_content = file.read()\n",
    "\n",
    "soup = bs4.BeautifulSoup(html_content, 'html.parser')\n",
    "print(soup.prettify())\n"
   ]
  },
  {
   "cell_type": "markdown",
   "id": "9ee224c6",
   "metadata": {},
   "source": [
    "***"
   ]
  },
  {
   "cell_type": "code",
   "execution_count": 3,
   "id": "65e6f50f",
   "metadata": {},
   "outputs": [],
   "source": [
    "music_blocks = soup.findAll('tr', {'data-id-song': True})\n",
    "music_blocks"
   ]
  },
  {
   "cell_type": "code",
   "execution_count": 4,
   "id": "733780cd",
   "metadata": {},
   "outputs": [],
   "source": [
    "def scrap_page(music_blocks):\n",
    "    musicb_data = {}\n",
    "    musicb_data[\"#\"] = []\n",
    "    musicb_data[\"Song\"] = []\n",
    "    musicb_data[\"Artist\"] = []\n",
    "    musicb_data[\"Popularity\"] = []\n",
    "    musicb_data[\"BPM\"] = []\n",
    "    musicb_data[\"Genres\"] = []\n",
    "    musicb_data[\"Parent Genres\"] = []\n",
    "    musicb_data[\"Album\"] = []\n",
    "    musicb_data[\"Album Date\"] = []\n",
    "    musicb_data[\"Time\"] = []\n",
    "    musicb_data[\"Dance\"] = []\n",
    "    musicb_data[\"Energy\"] = []\n",
    "    musicb_data[\"Acoustic\"] = []\n",
    "    musicb_data[\"Instrumental\"] = []\n",
    "    musicb_data[\"Happy\"] = []\n",
    "    musicb_data[\"Speech\"] = []\n",
    "    musicb_data[\"Live\"] = []\n",
    "    musicb_data[\"Loud\"] = []\n",
    "    musicb_data[\"Key\"] = []\n",
    "    musicb_data[\"Time Signature\"] = []\n",
    "    musicb_data[\"Added at\"] = []\n",
    "    musicb_data[\"Spotify Track Id\"] = []\n",
    "    musicb_data[\"Album Label\"] = []\n",
    "    musicb_data[\"Camelot\"] = []\n",
    "    musicb_data[\"Spotify Track Img\"] = []\n",
    "    musicb_data[\"Song Preview\"] = []\n",
    "    \n",
    "    \n",
    "    for music in music_blocks:\n",
    "        music_index = music.find(\"td\", {\"class\" : \"td-number text-center\"}).get_text()\n",
    "        try:\n",
    "            musicb_data[\"#\"].append(music_index)\n",
    "        except:\n",
    "            musicb_data[\"#\"].append(\"None\")\n",
    "        \n",
    "        music_name = music.find(\"td\", {\"class\" : \"td-name\"}).get_text()\n",
    "        try:\n",
    "            musicb_data[\"Song\"].append(music_name)\n",
    "        except:\n",
    "            musicb_data[\"Song\"].append(\"None\")\n",
    "            \n",
    "        music_img = music.findAll(\"img\", {\"class\" : \"track-table-img\"})\n",
    "        for img in music_img:\n",
    "            if img.get(\"src\") is not None:\n",
    "                image = img[\"src\"]\n",
    "        try:\n",
    "            musicb_data[\"Spotify Track Img\"].append(image)\n",
    "        except:\n",
    "            musicb_data[\"Spotify Track Img\"].append(\"None\")\n",
    "            \n",
    "        music_pre = music.findAll('div', {'class': 'track-list-item-right suggest-player-table suggest-player'})\n",
    "        for pre in music_pre:\n",
    "            if pre.get('data-previewurl') is not None:\n",
    "                link = pre['data-previewurl']\n",
    "        try:\n",
    "            musicb_data[\"Song Preview\"].append(link)\n",
    "        except:\n",
    "            musicb_data[\"Song Preview\"].append(\"None\")\n",
    "        \n",
    "        music_artist = music.find(\"td\", {\"class\" : \"td-number oferflow\"}).get_text()\n",
    "        try:\n",
    "            musicb_data[\"Artist\"].append(music_artist)\n",
    "        except:\n",
    "            musicb_data[\"Artist\"].append(\"None\")\n",
    "\n",
    "        music_popularity0 = music.findAll(\"td\", {\"class\" : \"td-number text-center\"})\n",
    "        music_popularity = music_popularity0[1].get_text()\n",
    "        try:\n",
    "            musicb_data[\"Popularity\"].append(music_popularity)\n",
    "        except:\n",
    "            musicb_data[\"Popularity\"].append(\"None\")\n",
    "\n",
    "        music_BPM0 = music.findAll(\"td\", {\"class\" : \"td-number text-center\"})\n",
    "        music_BPM = music_BPM0[2].get_text()\n",
    "        try:\n",
    "            musicb_data[\"BPM\"].append(music_BPM)\n",
    "        except:\n",
    "            musicb_data[\"BPM\"].append(\"None\")\n",
    "\n",
    "        music_genres0 = music.findAll(\"td\", {\"class\" : \"td-number oferflow\"})\n",
    "        music_genres = music_genres0[1].get_text()\n",
    "        try:\n",
    "            musicb_data[\"Genres\"].append(music_genres)\n",
    "        except:\n",
    "            musicb_data[\"Genres\"].append(\"None\")\n",
    "\n",
    "        music_parent_genre0 = music.findAll(\"td\", {\"class\": \"td-number oferflow\"})\n",
    "        music_parent_genre = music_parent_genre0[2].get_text()\n",
    "        try:\n",
    "            musicb_data[\"Parent Genres\"].append(music_parent_genre)\n",
    "        except:\n",
    "            musicb_data[\"Parent Genres\"].append(\"None\")\n",
    "\n",
    "        music_album0 = music.findAll(\"td\", {\"class\": \"td-number oferflow\"})\n",
    "        music_album = music_album0[3].get_text()\n",
    "        try:\n",
    "            musicb_data[\"Album\"].append(music_album)\n",
    "        except:\n",
    "            musicb_data[\"Album\"].append(\"None\")\n",
    "\n",
    "        music_album_date0 = music.findAll(\"td\", {\"class\" : \"td-number text-center\"})\n",
    "        music_album_date = music_album_date0[3].get_text()\n",
    "        try:\n",
    "            musicb_data[\"Album Date\"].append(music_album_date)\n",
    "        except:\n",
    "            musicb_data[\"Album Date\"].append(\"None\")\n",
    "\n",
    "        music_time0 = music.findAll(\"td\", {\"class\" : \"td-number text-center\"})\n",
    "        music_time = music_time0[4].get_text()    \n",
    "        try:\n",
    "            musicb_data[\"Time\"].append(music_time)\n",
    "        except:\n",
    "            musicb_data[\"Time\"].append(\"None\")\n",
    "\n",
    "        music_dance0 = music.findAll(\"td\", {\"class\" : \"td-number text-center\"})\n",
    "        music_dance = music_dance0[5].get_text()  \n",
    "        try:\n",
    "            musicb_data[\"Dance\"].append(music_dance)\n",
    "        except:\n",
    "            musicb_data[\"Dance\"].append(\"None\")\n",
    "\n",
    "        music_energy0 = music.findAll(\"td\", {\"class\" : \"td-number text-center\"})\n",
    "        music_energy = music_energy0[6].get_text()    \n",
    "        try:\n",
    "            musicb_data[\"Energy\"].append(music_energy)\n",
    "        except:\n",
    "            musicb_data[\"Energy\"].append(\"None\")\n",
    "\n",
    "        music_acoustic0 = music.findAll(\"td\", {\"class\" : \"td-number text-center\"})\n",
    "        music_acoustic = music_acoustic0[7].get_text()    \n",
    "        try:\n",
    "            musicb_data[\"Acoustic\"].append(music_acoustic)\n",
    "        except:\n",
    "            musicb_data[\"Acoustic\"].append(\"None\")\n",
    "\n",
    "        music_instrumental0 = music.findAll(\"td\", {\"class\" : \"td-number text-center\"})\n",
    "        music_instrumental = music_instrumental0[8].get_text()    \n",
    "        try:\n",
    "            musicb_data[\"Instrumental\"].append(music_instrumental)\n",
    "        except:\n",
    "            musicb_data[\"Instrumental\"].append(\"None\")\n",
    "\n",
    "        music_happy0 = music.findAll(\"td\", {\"class\" : \"td-number text-center\"})\n",
    "        music_happy = music_happy0[9].get_text()    \n",
    "        try:\n",
    "            musicb_data[\"Happy\"].append(music_happy)\n",
    "        except:\n",
    "            musicb_data[\"Happy\"].append(\"None\")\n",
    "\n",
    "        music_speech0 = music.findAll(\"td\", {\"class\" : \"td-number text-center\"})\n",
    "        music_speech = music_speech0[10].get_text()    \n",
    "        try:\n",
    "            musicb_data[\"Speech\"].append(music_speech)\n",
    "        except:\n",
    "            musicb_data[\"Speech\"].append(\"None\")\n",
    "\n",
    "        music_live0 = music.findAll(\"td\", {\"class\" : \"td-number text-center\"})\n",
    "        music_live = music_live0[11].get_text()    \n",
    "        try:\n",
    "            musicb_data[\"Live\"].append(music_live)\n",
    "        except:\n",
    "            musicb_data[\"Live\"].append(\"None\")\n",
    "\n",
    "        music_loud0 = music.findAll(\"td\", {\"class\" : \"td-number text-center\"})\n",
    "        music_loud = music_loud0[12].get_text()     \n",
    "        try:\n",
    "            musicb_data[\"Loud\"].append(music_loud)\n",
    "        except:\n",
    "            musicb_data[\"Loud\"].append(\"None\")\n",
    "\n",
    "        music_key0 = music.findAll(\"td\", {\"class\" : \"td-number text-center\"})\n",
    "        music_key = music_key0[13].get_text()     \n",
    "        try:\n",
    "            musicb_data[\"Key\"].append(music_key)\n",
    "        except:\n",
    "            musicb_data[\"Key\"].append(\"None\")\n",
    "\n",
    "        music_time_signature0 = music.findAll(\"td\", {\"class\" : \"td-number text-center\"})\n",
    "        music_time_signature = music_time_signature0[14].get_text()     \n",
    "        try:\n",
    "            musicb_data[\"Time Signature\"].append(music_time_signature)\n",
    "        except:\n",
    "            musicb_data[\"Time Signature\"].append(\"None\")\n",
    "\n",
    "        music_added0 = music.findAll(\"td\", {\"class\" : \"td-number text-center\"})\n",
    "        music_added = music_added0[15].get_text()    \n",
    "        try:\n",
    "            musicb_data[\"Added at\"].append(music_added)\n",
    "        except:\n",
    "            musicb_data[\"Added at\"].append(\"None\")\n",
    "\n",
    "        music_spotify_trackid0 = music.findAll(\"td\", {\"class\" : \"td-number text-center\"})\n",
    "        music_spotify_trackid = music_spotify_trackid0[16].get_text()      \n",
    "        try:\n",
    "            musicb_data[\"Spotify Track Id\"].append(music_spotify_trackid)\n",
    "        except:\n",
    "            musicb_data[\"Spotify Track Id\"].append(\"None\")\n",
    "\n",
    "        music_album_label0 = music.findAll(\"td\", {\"class\" : \"td-number text-center\"})\n",
    "        music_album_label = music_album_label0[17].get_text()      \n",
    "        try:\n",
    "            musicb_data[\"Album Label\"].append(music_album_label)\n",
    "        except:\n",
    "            musicb_data[\"Album Label\"].append(\"None\")\n",
    "\n",
    "        music_camelot0 = music.findAll(\"td\", {\"class\" : \"td-number text-center\"})\n",
    "        music_camelot = music_camelot0[18].get_text()      \n",
    "        try:\n",
    "            musicb_data[\"Camelot\"].append(music_camelot)\n",
    "        except:\n",
    "            musicb_data[\"Camelot\"].append(\"None\")\n",
    "\n",
    "    return musicb_data"
   ]
  },
  {
   "cell_type": "code",
   "execution_count": 5,
   "id": "9767e8f9",
   "metadata": {},
   "outputs": [],
   "source": [
    "def scrape_m_page(music_blocks):\n",
    "    page_music_data = []\n",
    "    \n",
    "    num_blocks = len(music_blocks)\n",
    "    \n",
    "    for idx in range(num_blocks):\n",
    "        page_music_data.append(scrape_mblock(music_blocks[idx]))\n",
    "        \n",
    "    return page_music_data"
   ]
  },
  {
   "cell_type": "code",
   "execution_count": 6,
   "id": "d2a1a16a",
   "metadata": {},
   "outputs": [],
   "source": [
    "#base_scraping_link = r'/Users/ardaturan/Desktop/SABANCI/Sophomore 2/CS 210/HW1/CS210 - Homework 1 - for BeautifulSoup.html'\n",
    "\n",
    "music_list = []\n",
    "\n",
    "music = scrap_page(music_blocks)\n",
    "df = pd.DataFrame(music)\n",
    "\n",
    "df = df.rename(index = lambda x: x + 1)\n",
    "\n",
    "df"
   ]
  },
  {
   "cell_type": "markdown",
   "id": "5edefad8",
   "metadata": {},
   "source": [
    "***\n",
    "## Description of the Dataset (EDA) & Preprocessing"
   ]
  },
  {
   "cell_type": "markdown",
   "id": "9ac7f68d",
   "metadata": {},
   "source": [
    "Let's learn more about my dataset. In this part, you will see the shape of my dataset.\n",
    "***\n"
   ]
  },
  {
   "cell_type": "code",
   "execution_count": 7,
   "id": "e8cbce1d",
   "metadata": {
    "scrolled": true
   },
   "outputs": [],
   "source": [
    "print(\"Number of columns (features) are:\", df.shape[1])\n",
    "print(\"Number of rows (samplings) are:\", df.shape[0])"
   ]
  },
  {
   "cell_type": "markdown",
   "id": "51da4ebe",
   "metadata": {},
   "source": [
    "***"
   ]
  },
  {
   "cell_type": "code",
   "execution_count": 8,
   "id": "ea5b974d",
   "metadata": {},
   "outputs": [],
   "source": [
    "df.describe().transpose()"
   ]
  },
  {
   "cell_type": "markdown",
   "id": "40ab8ac0",
   "metadata": {},
   "source": [
    "***"
   ]
  },
  {
   "cell_type": "code",
   "execution_count": 9,
   "id": "a2860c05",
   "metadata": {
    "scrolled": true
   },
   "outputs": [],
   "source": [
    "print(\"Each columns' non-null counts and their data types: \\n\")\n",
    "\n",
    "df[['#', 'Popularity', 'BPM', 'Dance', 'Energy', 'Acoustic', 'Instrumental', 'Happy', 'Speech', 'Live', 'Time Signature']] = df[['#', 'Popularity', 'BPM', 'Dance', 'Energy', 'Acoustic', 'Instrumental', 'Happy', 'Speech', 'Live', 'Time Signature']].apply(pd.to_numeric)\n",
    "df['Loud'] = df['Loud'].str.extract('(-?\\d+)').astype(int)\n",
    "\n",
    "df.info()\n"
   ]
  },
  {
   "cell_type": "markdown",
   "id": "a35240e4",
   "metadata": {},
   "source": [
    "***\n",
    "Checking if there is any null row.\n",
    "***\n",
    "**Fact:** We will see there is no empty row which is a good feature in terms of avoiding the one from getting weird results when implementing Machine Learning models."
   ]
  },
  {
   "cell_type": "code",
   "execution_count": 10,
   "id": "573c33a7",
   "metadata": {},
   "outputs": [],
   "source": [
    "print(\"Getting how many rows are null for each feature: \\n\", df.isna().sum())"
   ]
  },
  {
   "cell_type": "markdown",
   "id": "da4de37f",
   "metadata": {},
   "source": [
    "***\n",
    "Note: 'Spotify Track Img' and 'Song Preview' columns will not be used since they have no value in ordering."
   ]
  },
  {
   "cell_type": "code",
   "execution_count": 11,
   "id": "be3598fe",
   "metadata": {},
   "outputs": [],
   "source": [
    "df.drop(['Spotify Track Img'], axis = 1, inplace=True)\n",
    "df.drop(['Song Preview'], axis = 1, inplace=True)\n",
    "\n",
    "df.head()"
   ]
  },
  {
   "cell_type": "markdown",
   "id": "0e40c157",
   "metadata": {},
   "source": [
    "***\n",
    "We can convert 'Added at' and 'Album Date' feature column, to datetime data type which is object type currently."
   ]
  },
  {
   "cell_type": "code",
   "execution_count": 12,
   "id": "c19e8008",
   "metadata": {},
   "outputs": [],
   "source": [
    "#df[\"Added at\"] = pd.to_datetime(df['Added at'])\n",
    "#df[\"Album Date\"] = pd.to_datetime(df['Album Date'])\n",
    "\n",
    "#df.head()"
   ]
  },
  {
   "cell_type": "markdown",
   "id": "975f3e31",
   "metadata": {},
   "source": [
    "***\n",
    "Since we have finished investigating recurring or null values, we can move on with the most interesting part, which is the sorting.\n",
    "***\n",
    "First, lets start with the most popular songs."
   ]
  },
  {
   "cell_type": "code",
   "execution_count": 13,
   "id": "bb675a9b",
   "metadata": {},
   "outputs": [],
   "source": [
    "a= df.sort_values('Popularity',ascending=False)[:10]\n",
    "a[['Song','Popularity','Artist','Genres']]"
   ]
  },
  {
   "cell_type": "markdown",
   "id": "337fe654",
   "metadata": {},
   "source": [
    "***\n",
    "Now, the least popular ones."
   ]
  },
  {
   "cell_type": "code",
   "execution_count": 14,
   "id": "ce9f2c1f",
   "metadata": {},
   "outputs": [],
   "source": [
    "a= df.sort_values('Popularity',ascending=True)[0:10]\n",
    "a[['Song','Popularity','Artist', 'Genres']]"
   ]
  },
  {
   "cell_type": "code",
   "execution_count": null,
   "id": "05ce9727",
   "metadata": {},
   "outputs": [],
   "source": []
  }
 ],
 "metadata": {
  "kernelspec": {
   "display_name": "Python 3 (ipykernel)",
   "language": "python",
   "name": "python3"
  },
  "language_info": {
   "codemirror_mode": {
    "name": "ipython",
    "version": 3
   },
   "file_extension": ".py",
   "mimetype": "text/x-python",
   "name": "python",
   "nbconvert_exporter": "python",
   "pygments_lexer": "ipython3",
   "version": "3.9.18"
  }
 },
 "nbformat": 4,
 "nbformat_minor": 5
}
